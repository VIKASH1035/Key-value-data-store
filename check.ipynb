{
  "nbformat": 4,
  "nbformat_minor": 0,
  "metadata": {
    "colab": {
      "name": "check.ipynb",
      "provenance": [],
      "collapsed_sections": []
    },
    "kernelspec": {
      "name": "python3",
      "display_name": "Python 3"
    }
  },
  "cells": [
    {
      "cell_type": "markdown",
      "metadata": {
        "id": "oKE8LCAEm4W8"
      },
      "source": [
        "**Here we check how to access and perform operations on a main file \r\n",
        "run the MODULE of MAIN FILE and import mainfile as a library** "
      ]
    },
    {
      "cell_type": "code",
      "metadata": {
        "id": "TJ64S0FHqdDH"
      },
      "source": [
        "__author__ = 'vikash sai'"
      ],
      "execution_count": 28,
      "outputs": []
    },
    {
      "cell_type": "code",
      "metadata": {
        "id": "43BIaOBbtBiQ"
      },
      "source": [
        "import threading \r\n",
        "from threading import*\r\n",
        "\r\n",
        "import time"
      ],
      "execution_count": 29,
      "outputs": []
    },
    {
      "cell_type": "code",
      "metadata": {
        "colab": {
          "base_uri": "https://localhost:8080/"
        },
        "id": "90IrOAP9qXNP",
        "outputId": "c2a8acec-05e6-4020-9e4f-d69525b3b2f3"
      },
      "source": [
        "pip install import-ipynb"
      ],
      "execution_count": 30,
      "outputs": [
        {
          "output_type": "stream",
          "text": [
            "Requirement already satisfied: import-ipynb in /usr/local/lib/python3.6/dist-packages (0.1.3)\n"
          ],
          "name": "stdout"
        }
      ]
    },
    {
      "cell_type": "code",
      "metadata": {
        "id": "9EDc7nT8qJVC"
      },
      "source": [
        "import import_ipynb\r\n",
        "import mycode as mp"
      ],
      "execution_count": 31,
      "outputs": []
    },
    {
      "cell_type": "markdown",
      "metadata": {
        "id": "WtJLQnJXmY2g"
      },
      "source": [
        "**To create a key with key_name,value given and with no time-to-live property.**"
      ]
    },
    {
      "cell_type": "code",
      "metadata": {
        "id": "UdHvmKa7l57s"
      },
      "source": [
        "mp.create(\"freshworks\",81)"
      ],
      "execution_count": 38,
      "outputs": []
    },
    {
      "cell_type": "markdown",
      "metadata": {
        "id": "UA69HXl6me3h"
      },
      "source": [
        "**To create a key with key_name,value given and with time-to-live property value given(number of seconds)**"
      ]
    },
    {
      "cell_type": "code",
      "metadata": {
        "colab": {
          "base_uri": "https://localhost:8080/"
        },
        "id": "hGC9UGqfmGLd",
        "outputId": "c9c59551-b2be-4ef9-d1ed-4dd335059e53"
      },
      "source": [
        "mp.create(\"india \",37,3600) \r\n"
      ],
      "execution_count": 39,
      "outputs": [
        {
          "output_type": "stream",
          "text": [
            "Error: Invalind key_name!! key_name must contain only alphabets and no special characters or numbers.\n"
          ],
          "name": "stdout"
        }
      ]
    },
    {
      "cell_type": "markdown",
      "metadata": {
        "id": "lg19oh-hmnA_"
      },
      "source": [
        "**It returns the value of the respective key in Jason object format 'key_name:value'**"
      ]
    },
    {
      "cell_type": "code",
      "metadata": {
        "colab": {
          "base_uri": "https://localhost:8080/",
          "height": 35
        },
        "id": "nd5lMK-wtrRr",
        "outputId": "5d2b12ba-4b19-4af0-e63e-3df1768c5d7e"
      },
      "source": [
        "mp.read(\"freshworks\")"
      ],
      "execution_count": 41,
      "outputs": [
        {
          "output_type": "execute_result",
          "data": {
            "application/vnd.google.colaboratory.intrinsic+json": {
              "type": "string"
            },
            "text/plain": [
              "'freshworks:81'"
            ]
          },
          "metadata": {
            "tags": []
          },
          "execution_count": 41
        }
      ]
    },
    {
      "cell_type": "code",
      "metadata": {
        "colab": {
          "base_uri": "https://localhost:8080/",
          "height": 35
        },
        "id": "5kLZR8Z1mJTU",
        "outputId": "62102366-1e60-4ead-d9f8-c5b9c59d7510"
      },
      "source": [
        "mp.read(\"vikashsai\")\r\n",
        "\r\n"
      ],
      "execution_count": 40,
      "outputs": [
        {
          "output_type": "execute_result",
          "data": {
            "application/vnd.google.colaboratory.intrinsic+json": {
              "type": "string"
            },
            "text/plain": [
              "'vikashsai:78'"
            ]
          },
          "metadata": {
            "tags": []
          },
          "execution_count": 40
        }
      ]
    },
    {
      "cell_type": "markdown",
      "metadata": {
        "id": "d4J9mgfmmvWA"
      },
      "source": [
        "**It returns the value of the respective key in Jason object format if the TIME-TO-LIVE IS NOT EXPIRED else it returns an ERROR.**"
      ]
    },
    {
      "cell_type": "code",
      "metadata": {
        "colab": {
          "base_uri": "https://localhost:8080/",
          "height": 35
        },
        "id": "cIHSwx7SmQzd",
        "outputId": "8586f35a-de77-4ed4-efd3-df4e17f3223f"
      },
      "source": [
        "mp.read(\"rahulSingh\")"
      ],
      "execution_count": 35,
      "outputs": [
        {
          "output_type": "execute_result",
          "data": {
            "application/vnd.google.colaboratory.intrinsic+json": {
              "type": "string"
            },
            "text/plain": [
              "'rahulSingh:56'"
            ]
          },
          "metadata": {
            "tags": []
          },
          "execution_count": 35
        }
      ]
    },
    {
      "cell_type": "code",
      "metadata": {
        "colab": {
          "base_uri": "https://localhost:8080/"
        },
        "id": "mP8f6AAGmUse",
        "outputId": "ac53619c-b200-433c-92ef-77b1c79d519d"
      },
      "source": [
        "\r\n",
        "mp.create(\"vikashsai\",90)"
      ],
      "execution_count": 36,
      "outputs": [
        {
          "output_type": "stream",
          "text": [
            "Error:key is already exist\n"
          ],
          "name": "stdout"
        }
      ]
    },
    {
      "cell_type": "code",
      "metadata": {
        "id": "NtMF8HiDtZaD"
      },
      "source": [
        "#we can access these using multiple threads like\r\n",
        "t1=Thread(target=(create or read or delete),args=(key_name,value,timeout)) #as per the operation\r\n",
        "t1.start()\r\n",
        "t1.sleep()\r\n",
        "t2=Thread(target=(create or read or delete),args=(key_name,value,timeout)) #as per the operation\r\n",
        "t2.start()\r\n",
        "t2.sleep()\r\n",
        "#and so on upto tn\r\n",
        "\r\n",
        "#the code also returns other errors like \r\n",
        "#\"invalidkey\" if key_length is greater than 32 or key_name contains any numeric,special characters etc.,\r\n",
        "#\"key doesnot exist\" if key_name was mis-spelt or deleted earlier\r\n",
        "#\"File memory limit reached\" if file memory exceeds 1GB\r\n",
        "# ************************************************************ Thank you *********************************************************"
      ],
      "execution_count": null,
      "outputs": []
    },
    {
      "cell_type": "markdown",
      "metadata": {
        "id": "v4Dpf7rQmAqT"
      },
      "source": [
        "\r\n"
      ]
    },
    {
      "cell_type": "markdown",
      "metadata": {
        "id": "s7noaWuXm2f3"
      },
      "source": [
        ""
      ]
    }
  ]
}
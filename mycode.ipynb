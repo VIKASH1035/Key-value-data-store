{
  "nbformat": 4,
  "nbformat_minor": 0,
  "metadata": {
    "colab": {
      "name": "mycode.ipynb",
      "provenance": []
    },
    "kernelspec": {
      "name": "python3",
      "display_name": "Python 3"
    }
  },
  "cells": [
    {
      "cell_type": "markdown",
      "metadata": {
        "id": "XWDjmBc3n2CA"
      },
      "source": [
        " **Freshwork assignment- File based key value data strore that support the basic CRD operations.\r\n",
        "Here  i implement the create, read and delete   function required for my key value data strore**"
      ]
    },
    {
      "cell_type": "code",
      "metadata": {
        "id": "CZtVRlJOnQLL"
      },
      "source": [
        "__author__ = 'vikash sai'\r\n",
        "\r\n",
        "import threading \r\n",
        "from threading import*\r\n",
        "\r\n",
        "import time"
      ],
      "execution_count": 10,
      "outputs": []
    },
    {
      "cell_type": "code",
      "metadata": {
        "id": "pxmOV-PVnQwE"
      },
      "source": [
        "mydict={} #'mydict' is the dictionary in which we store data\r\n"
      ],
      "execution_count": 11,
      "outputs": []
    },
    {
      "cell_type": "markdown",
      "metadata": {
        "id": "mpCHEIm3nbp-"
      },
      "source": [
        "#For create operation \r\n",
        "#use syntax \"create(key_name,value,timeout_value)\" timeout is optional you can continue by passing two arguments without timeout\r\n"
      ]
    },
    {
      "cell_type": "code",
      "metadata": {
        "id": "-nhsVoD1nYb3"
      },
      "source": [
        "def create(key,value,timeout=0):\r\n",
        "    if key in mydict:\r\n",
        "        print(\"Error:key is already exist\") #error \r\n",
        "    else:\r\n",
        "        if(key.isalpha()):\r\n",
        "            if len(mydict)<(1024*1020*1024) and value<=(16*1024*1024): #constraints for file size less than 1GB and Jasonobject value less than 16KB \r\n",
        "                if timeout==0:\r\n",
        "                    l=[value,timeout]\r\n",
        "                else:\r\n",
        "                    l=[value,time.time()+timeout]\r\n",
        "                if len(key)<=32: \r\n",
        "                    mydict[key]=l\r\n",
        "            else:\r\n",
        "                print(\"Error: Memory limit exceeded!! \")#error\r\n",
        "        else:\r\n",
        "            print(\"Error: Invalind key_name!! key_name must contain only alphabets and no special characters or numbers.\")#error message3\r\n",
        "\r\n"
      ],
      "execution_count": 12,
      "outputs": []
    },
    {
      "cell_type": "markdown",
      "metadata": {
        "id": "-3vw-PxonkIG"
      },
      "source": [
        "#For read operation\r\n",
        "#use syntax \"read(key_name)\" "
      ]
    },
    {
      "cell_type": "code",
      "metadata": {
        "id": "sk2vuepTnme_"
      },
      "source": [
        "def read(key):\r\n",
        "    if key not in mydict:\r\n",
        "        print(\"Error: key does not exist in database. Please enter a valid key\") #error\r\n",
        "    else:\r\n",
        "        b=mydict[key]\r\n",
        "        if b[1]!=0:\r\n",
        "            if time.time()<b[1]: #comparing the present time with expiry time\r\n",
        "                stri=str(key)+\":\"+str(b[0]) #to return the value in the format of JasonObject i.e.,\"key_name:value\"\r\n",
        "                return stri\r\n",
        "            else:\r\n",
        "                print(\"Error: time-to-live of\",key,\"has expired\") #error \r\n",
        "        else:\r\n",
        "            stri=str(key)+\":\"+str(b[0])\r\n",
        "            return stri\r\n"
      ],
      "execution_count": 13,
      "outputs": []
    },
    {
      "cell_type": "markdown",
      "metadata": {
        "id": "cW6cSKBGnuQ0"
      },
      "source": [
        "\r\n",
        "#For delete operation\r\n",
        "#use syntax \"delete(key_name)\""
      ]
    },
    {
      "cell_type": "markdown",
      "metadata": {
        "id": "sPEW7gjVn1IM"
      },
      "source": [
        ""
      ]
    },
    {
      "cell_type": "code",
      "metadata": {
        "id": "YMtFgzK8nriF"
      },
      "source": [
        "def delete(key):\r\n",
        "    if key not in mydict:\r\n",
        "        print(\"error: given key does not exist in database. Please enter a valid key\") #error\r\n",
        "    else:\r\n",
        "        b=mydict[key]\r\n",
        "        if b[1]!=0:\r\n",
        "            if time.time()<b[1]: #comparing the current time with expiry time\r\n",
        "                del mydict[key]\r\n",
        "                print(\"key is successfully deleted\")\r\n",
        "            else:\r\n",
        "                print(\"Error: time-to-live of\",key,\"has expired\") #error message5\r\n",
        "        else:\r\n",
        "            del mydict[key]\r\n",
        "            print(\"key is successfully deleted\")\r\n",
        "# ********************************** Thank you ***************************************************************************"
      ],
      "execution_count": 14,
      "outputs": []
    },
    {
      "cell_type": "code",
      "metadata": {
        "id": "UnmaHnqcnywk"
      },
      "source": [
        ""
      ],
      "execution_count": null,
      "outputs": []
    }
  ]
}